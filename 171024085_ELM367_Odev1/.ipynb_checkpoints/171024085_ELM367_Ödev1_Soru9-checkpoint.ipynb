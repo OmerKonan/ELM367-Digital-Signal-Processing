{
 "cells": [
  {
   "cell_type": "markdown",
   "metadata": {},
   "source": [
    "### Adı Soyadı: Ömer Konan\n",
    "### Öğrenci No: 171024085\n",
    "### ELM367 Ödev #1 "
   ]
  },
  {
   "cell_type": "markdown",
   "metadata": {},
   "source": [
    "# Soru 9"
   ]
  },
  {
   "cell_type": "code",
   "execution_count": 110,
   "metadata": {},
   "outputs": [
    {
     "name": "stdout",
     "output_type": "stream",
     "text": [
      "(-0.17073170731707318+0.5365853658536587j)\n",
      "(6-2j)\n",
      "(23+2j)\n",
      "(-3.5355339059327378-0.7071067811865472j)\n",
      "(1.2928932188134523+2.2928932188134525j)\n"
     ]
    }
   ],
   "source": [
    "import math\n",
    "import numpy as np\n",
    "import matplotlib.pyplot as plt\n",
    "\n",
    "pi = np.pi\n",
    "\n",
    "x1 = (2 + 3j) / (4 - 5j)\n",
    "x2 = (2 + 3j) + (4 - 5j)\n",
    "x3 = (2 + 3j) * (4 - 5j)\n",
    "x4 = (2 + 3j) * (np.exp(1j*0.75*pi))\n",
    "x5 = (2 + 3j) + (np.exp(1j*1.25*pi))\n",
    "\n",
    "print(x1)\n",
    "print(x2)\n",
    "print(x3)\n",
    "print(x4)\n",
    "print(x5)"
   ]
  },
  {
   "cell_type": "code",
   "execution_count": 111,
   "metadata": {},
   "outputs": [
    {
     "name": "stdout",
     "output_type": "stream",
     "text": [
      "1.8788491078186729 -0.3217505543966422 0.08673833867598511 -2.9441970937399127 1.057366922568183\n"
     ]
    }
   ],
   "source": [
    "p1 = np.angle(x1)\n",
    "p2 = np.angle(x2)\n",
    "p3 = np.angle(x3)\n",
    "p4 = np.angle(x4)\n",
    "p5 = np.angle(x5)\n",
    "\n",
    "print(p1, p2, p3, p4, p5)"
   ]
  },
  {
   "cell_type": "code",
   "execution_count": 112,
   "metadata": {},
   "outputs": [
    {
     "name": "stdout",
     "output_type": "stream",
     "text": [
      "0.5630925063714731 6.324555320336759 23.08679276123039 3.605551275463989 2.6322864943114617\n"
     ]
    }
   ],
   "source": [
    "r1 = np.abs(x1)\n",
    "r2 = np.abs(x2)\n",
    "r3 = np.abs(x3)\n",
    "r4 = np.abs(x4)\n",
    "r5 = np.abs(x5)\n",
    "print(r1, r2, r3, r4, r5)"
   ]
  },
  {
   "cell_type": "code",
   "execution_count": 113,
   "metadata": {},
   "outputs": [
    {
     "name": "stdout",
     "output_type": "stream",
     "text": [
      "(-0.18965517241379312+0.27586206896551724j)\n",
      "(6+3j)\n",
      "(29+11j)\n",
      "(4.292893218813452+3.7071067811865475j)\n",
      "(3.292893218813452+4.292893218813452j)\n"
     ]
    }
   ],
   "source": [
    "x6  = (2 + 3j) / (4 - 10j) # 5 değeri yerine 10 kullanıldı.\n",
    "x7  = (2 + 8j) + (4 - 5j)  # 3 değeri yerine 8 kullanıldı.\n",
    "x8  = (2 + 3j) * (7 - 5j)  # 4 değeri yerine 7 kullanıldı.\n",
    "x9  = (5 + 3j) \\\n",
    "    +(np.exp(1j*0.75*pi)) # 2 değeri yerine 5 kullanıldı.\n",
    "x10 = (4 + 5j) \\\n",
    "    + (np.exp(1j*1.25*pi)) # 2 yerine 4, 3 yerine 5 kullanıldı\n",
    "\n",
    "print(x6)\n",
    "print(x7)\n",
    "print(x8)\n",
    "print(x9)\n",
    "print(x10)"
   ]
  },
  {
   "cell_type": "code",
   "execution_count": 114,
   "metadata": {},
   "outputs": [
    {
     "name": "stdout",
     "output_type": "stream",
     "text": [
      "1.8788491078186729 -0.3217505543966422 0.08673833867598511 -2.9441970937399127 1.057366922568183\n"
     ]
    }
   ],
   "source": [
    "p6  = np.angle(x6)\n",
    "p7  = np.angle(x7)\n",
    "p8  = np.angle(x8)\n",
    "p9  = np.angle(x9)\n",
    "p10 = np.angle(x10)\n",
    "\n",
    "print(p1, p2, p3, p4, p5)"
   ]
  },
  {
   "cell_type": "code",
   "execution_count": 115,
   "metadata": {},
   "outputs": [
    {
     "name": "stdout",
     "output_type": "stream",
     "text": [
      "0.5630925063714731 6.324555320336759 23.08679276123039 3.605551275463989 2.6322864943114617\n"
     ]
    }
   ],
   "source": [
    "r6  = np.abs(x6)\n",
    "r7  = np.abs(x7)\n",
    "r8  = np.abs(x8)\n",
    "r9  = np.abs(x9)\n",
    "r10 = np.abs(x10)\n",
    "print(r1, r2, r3, r4, r5)"
   ]
  }
 ],
 "metadata": {
  "kernelspec": {
   "display_name": "Python 3",
   "language": "python",
   "name": "python3"
  },
  "language_info": {
   "codemirror_mode": {
    "name": "ipython",
    "version": 3
   },
   "file_extension": ".py",
   "mimetype": "text/x-python",
   "name": "python",
   "nbconvert_exporter": "python",
   "pygments_lexer": "ipython3",
   "version": "3.7.4"
  }
 },
 "nbformat": 4,
 "nbformat_minor": 2
}
