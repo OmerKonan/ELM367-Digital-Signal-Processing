{
 "cells": [
  {
   "cell_type": "markdown",
   "metadata": {},
   "source": [
    "### Adı Soyadı: Ömer Konan\n",
    "### Öğrenci No: 171024085\n",
    "### ELM367 Ödev #1 "
   ]
  },
  {
   "cell_type": "markdown",
   "metadata": {},
   "source": [
    "# Soru 9"
   ]
  },
  {
   "cell_type": "code",
   "execution_count": 8,
   "metadata": {},
   "outputs": [],
   "source": [
    "import math\n",
    "import matplotlib.pyplot as plt\n",
    "\n",
    "# Jupyter Notebook'ta şekillerin görünmesini sağlamak için gerekli:\n",
    "%matplotlib notebook \n",
    "\n",
    "x1 = (2 + 3j) / (4 - 5j)\n",
    "x2 = (2 + 3j) + (4 - 5j)\n",
    "x3 = (2 + 3j) * (4 - 5j)\n",
    "x4 = (2 + 3j) * math.exp(0.75*math.pi)\n",
    "x5 = (2 + 3j) + math.exp(1.25*math.pi)\n",
    "\n"
   ]
  },
  {
   "cell_type": "code",
   "execution_count": null,
   "metadata": {},
   "outputs": [],
   "source": []
  },
  {
   "cell_type": "code",
   "execution_count": null,
   "metadata": {},
   "outputs": [],
   "source": []
  }
 ],
 "metadata": {
  "kernelspec": {
   "display_name": "Python 3",
   "language": "python",
   "name": "python3"
  },
  "language_info": {
   "codemirror_mode": {
    "name": "ipython",
    "version": 3
   },
   "file_extension": ".py",
   "mimetype": "text/x-python",
   "name": "python",
   "nbconvert_exporter": "python",
   "pygments_lexer": "ipython3",
   "version": "3.6.8"
  }
 },
 "nbformat": 4,
 "nbformat_minor": 2
}
