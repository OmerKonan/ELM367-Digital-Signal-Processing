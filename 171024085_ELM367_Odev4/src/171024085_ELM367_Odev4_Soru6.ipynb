{
 "cells": [
  {
   "cell_type": "markdown",
   "metadata": {},
   "source": [
    "### Adı Soyadı: Ömer Konan\n",
    "### Öğrenci No: 171024085\n",
    "### ELM367 Ödev #4"
   ]
  },
  {
   "cell_type": "markdown",
   "metadata": {},
   "source": [
    "# Soru 6"
   ]
  },
  {
   "cell_type": "code",
   "execution_count": 1,
   "metadata": {},
   "outputs": [],
   "source": [
    "import math\n",
    "import matplotlib.pyplot as plt\n",
    "import numpy as np\n",
    "# Jupyter Notebook'ta şekillerin görünmesini sağlamak için gerekli:\n",
    "%matplotlib notebook"
   ]
  },
  {
   "cell_type": "code",
   "execution_count": 2,
   "metadata": {},
   "outputs": [
    {
     "name": "stdout",
     "output_type": "stream",
     "text": [
      "[0, -2, 4, -2, 0]\n"
     ]
    }
   ],
   "source": [
    "x = [0,1,0,0,0]\n",
    "y = [0]\n",
    "for i in range(1,len(x)):\n",
    " y.append(-2*x[i]+4*x[i-1]-2*x[i-2])\n",
    "print(y)"
   ]
  },
  {
   "cell_type": "code",
   "execution_count": 3,
   "metadata": {},
   "outputs": [
    {
     "name": "stdout",
     "output_type": "stream",
     "text": [
      "[ 0. -2.  4. -2.  0.]\n"
     ]
    }
   ],
   "source": [
    "x = np.array([0,1,0,0,0],dtype=float)\n",
    "y = np.array([0,0,0,0,0],dtype=float)\n",
    "for i in range(1,len(x)):\n",
    " y[i]=-2*x[i]+4*x[i-1]-2*x[i-2]\n",
    "print(y)"
   ]
  }
 ],
 "metadata": {
  "kernelspec": {
   "display_name": "Python 3",
   "language": "python",
   "name": "python3"
  },
  "language_info": {
   "codemirror_mode": {
    "name": "ipython",
    "version": 3
   },
   "file_extension": ".py",
   "mimetype": "text/x-python",
   "name": "python",
   "nbconvert_exporter": "python",
   "pygments_lexer": "ipython3",
   "version": "3.7.4"
  }
 },
 "nbformat": 4,
 "nbformat_minor": 2
}
